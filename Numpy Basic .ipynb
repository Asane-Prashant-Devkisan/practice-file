{
 "cells": [
  {
   "cell_type": "code",
   "execution_count": 15,
   "id": "022786b1-2ff3-466d-9baf-a5837c1587b4",
   "metadata": {},
   "outputs": [
    {
     "data": {
      "text/plain": [
       "array(1)"
      ]
     },
     "execution_count": 15,
     "metadata": {},
     "output_type": "execute_result"
    }
   ],
   "source": [
    "# 1  Create a 1d numpy array with value from 0 to 9 \n",
    "import numpy as np \n",
    "z=np.array(1)\n",
    "z"
   ]
  },
  {
   "cell_type": "code",
   "execution_count": 17,
   "id": "5a846801-1080-487a-abb5-3c7acc200ac7",
   "metadata": {},
   "outputs": [
    {
     "data": {
      "text/plain": [
       "array([[0., 0., 0.],\n",
       "       [0., 0., 0.],\n",
       "       [0., 0., 0.]])"
      ]
     },
     "execution_count": 17,
     "metadata": {},
     "output_type": "execute_result"
    }
   ],
   "source": [
    "#2 create 3 x 3 numpy array filled with zeros \n",
    "c=np.zeros([3,3])\n",
    "c"
   ]
  },
  {
   "cell_type": "code",
   "execution_count": 18,
   "id": "3eddd993-622c-455a-8fce-4f72b6895063",
   "metadata": {},
   "outputs": [
    {
     "data": {
      "text/plain": [
       "array([[1, 1, 1, 1],\n",
       "       [1, 1, 1, 1],\n",
       "       [1, 1, 1, 1],\n",
       "       [1, 1, 1, 1]])"
      ]
     },
     "execution_count": 18,
     "metadata": {},
     "output_type": "execute_result"
    }
   ],
   "source": [
    "#3 create 4 X 4  numpy array filled with ones \n",
    "c=np.full([4,4],1)\n",
    "c"
   ]
  },
  {
   "cell_type": "code",
   "execution_count": 25,
   "id": "2e27efd6-fc3c-4bae-a74e-866f91948af3",
   "metadata": {},
   "outputs": [
    {
     "data": {
      "text/plain": [
       "array([[1, 0, 0, 0, 0],\n",
       "       [0, 1, 0, 0, 0],\n",
       "       [0, 0, 1, 0, 0],\n",
       "       [0, 0, 0, 1, 0],\n",
       "       [0, 0, 0, 0, 1]])"
      ]
     },
     "execution_count": 25,
     "metadata": {},
     "output_type": "execute_result"
    }
   ],
   "source": [
    "#4 create 5 X 5  identity matrix \n",
    "# method 1 \n",
    "c=np.identity(5,dtype=int)\n",
    "c\n",
    "#method 2\n",
    "c=np.eye(5)\n",
    "c"
   ]
  },
  {
   "cell_type": "code",
   "execution_count": 29,
   "id": "ee03ffc2-2879-4895-96ce-97ae02297170",
   "metadata": {},
   "outputs": [
    {
     "data": {
      "text/plain": [
       "2"
      ]
     },
     "execution_count": 29,
     "metadata": {},
     "output_type": "execute_result"
    }
   ],
   "source": [
    "# 5 create a 2D array with random integers between 10   and 50\n",
    "a=np.array([[10,51,10],[10,20,30]])\n",
    "a\n",
    "np.ndim(a)"
   ]
  },
  {
   "cell_type": "code",
   "execution_count": 34,
   "id": "354f5458-ca05-4eef-aaed-7c6e62c7eadb",
   "metadata": {},
   "outputs": [
    {
     "name": "stdout",
     "output_type": "stream",
     "text": [
      "3\n",
      "(1, 3, 3)\n",
      "9\n"
     ]
    }
   ],
   "source": [
    "# 6 create a 3D array and find the shape,size, and dimension \n",
    "a=np.array([[[10,51,10],[10,20,30],[10,20,50]]])\n",
    "a\n",
    "print(np.ndim(a))\n",
    "print(np.shape(a))\n",
    "print(np.size(a))"
   ]
  },
  {
   "cell_type": "code",
   "execution_count": 35,
   "id": "89b59b80-94bb-4ab0-8d0e-d1fddb9b7eb1",
   "metadata": {},
   "outputs": [
    {
     "data": {
      "text/plain": [
       "array([1.        , 1.44444444, 1.88888889, 2.33333333, 2.77777778,\n",
       "       3.22222222, 3.66666667, 4.11111111, 4.55555556, 5.        ])"
      ]
     },
     "execution_count": 35,
     "metadata": {},
     "output_type": "execute_result"
    }
   ],
   "source": [
    "# 7 create a 1D array of 10 equally spaced numbers between 1 & 5 \n",
    "np.linspace(1,5,10)"
   ]
  },
  {
   "cell_type": "code",
   "execution_count": 39,
   "id": "8530552a-a045-4045-976c-958c5650f02c",
   "metadata": {},
   "outputs": [
    {
     "name": "stdout",
     "output_type": "stream",
     "text": [
      "[1 2 3 4 5 6 7 8]\n"
     ]
    },
    {
     "data": {
      "text/plain": [
       "numpy.ndarray"
      ]
     },
     "execution_count": 39,
     "metadata": {},
     "output_type": "execute_result"
    }
   ],
   "source": [
    "# 8 convert a list into a numpy array\n",
    "a=[1,2,3,4,5,6,7,8]\n",
    "b=np.array(a)\n",
    "print(b)\n",
    "type(b)"
   ]
  },
  {
   "cell_type": "code",
   "execution_count": 44,
   "id": "34f36c0e-3cc2-4d55-8d20-b5e64e3babe4",
   "metadata": {},
   "outputs": [
    {
     "data": {
      "text/plain": [
       "array([ 0.,  1.,  2.,  3.,  4.,  5.,  6.,  7.,  8.,  9., 10., 11., 12.,\n",
       "       13., 14., 15., 16., 17., 18., 19., 20., 21., 22., 23., 24., 25.,\n",
       "       26., 27., 28., 29., 30., 31., 32., 33., 34., 35., 36., 37., 38.,\n",
       "       39., 40., 41., 42., 43., 44., 45., 46., 47., 48., 49., 50., 51.,\n",
       "       52., 53., 54., 55., 56., 57., 58., 59., 60., 61., 62., 63., 64.,\n",
       "       65., 66., 67., 68., 69., 70., 71., 72., 73., 74., 75., 76., 77.,\n",
       "       78., 79., 80., 81., 82., 83., 84., 85., 86., 87., 88., 89., 90.,\n",
       "       91., 92., 93., 94., 95., 96., 97., 98., 99.])"
      ]
     },
     "execution_count": 44,
     "metadata": {},
     "output_type": "execute_result"
    }
   ],
   "source": [
    "# 9 create a numpy arrray of 100 random floats betweeen 0 &1\n",
    "a=np.arange(100,dtype=float)\n",
    "a"
   ]
  },
  {
   "cell_type": "code",
   "execution_count": 50,
   "id": "12f45de7-09ed-4bb8-8996-6bb08ef3d55b",
   "metadata": {},
   "outputs": [
    {
     "name": "stdout",
     "output_type": "stream",
     "text": [
      "1\n",
      "[[ 0  1  2  3]\n",
      " [ 4  5  6  7]\n",
      " [ 8  9 10 11]]\n"
     ]
    }
   ],
   "source": [
    "# 10  Reshape a 1D array of 12 elements into a 3 X 4 matrix \n",
    "a=np.arange(12)\n",
    "a\n",
    "print(a.ndim)\n",
    "b=a.reshape(3,4)\n",
    "print(b)"
   ]
  },
  {
   "cell_type": "code",
   "execution_count": 59,
   "id": "05ed0b29-ce34-4e57-8362-206201d322f9",
   "metadata": {},
   "outputs": [
    {
     "data": {
      "text/plain": [
       "array([1, 2, 3, 1, 2, 5])"
      ]
     },
     "execution_count": 59,
     "metadata": {},
     "output_type": "execute_result"
    }
   ],
   "source": [
    "# 11 flatern a 2D array into 1D \n",
    "a=np.array([[1,2,3],[1,2,5]])\n",
    "a\n",
    "#method 1 \n",
    "b=a.reshape(-1)\n",
    "b\n",
    "#method 2 \n",
    "a.flatten()\n"
   ]
  },
  {
   "cell_type": "code",
   "execution_count": 62,
   "id": "3ce0f1db-d329-4288-9167-96fa0d202e46",
   "metadata": {},
   "outputs": [
    {
     "data": {
      "text/plain": [
       "array([[ True,  True,  True,  True,  True],\n",
       "       [ True,  True,  True,  True,  True],\n",
       "       [ True,  True,  True,  True,  True],\n",
       "       [ True,  True,  True,  True,  True],\n",
       "       [ True,  True,  True,  True,  True]])"
      ]
     },
     "execution_count": 62,
     "metadata": {},
     "output_type": "execute_result"
    }
   ],
   "source": [
    "# 12 create a boolean array where  all values are true \n",
    "a=np.full((5,5),True)\n",
    "a"
   ]
  },
  {
   "cell_type": "code",
   "execution_count": 63,
   "id": "26dbdbd0-1834-4037-8405-2093d6516d2c",
   "metadata": {},
   "outputs": [
    {
     "name": "stdout",
     "output_type": "stream",
     "text": [
      "[ 5 10 15]\n"
     ]
    }
   ],
   "source": [
    "# 13 create an array with values[1,2,3] and multiply each element by 5 \n",
    "a=np.array([1,2,3])\n",
    "print(a*5)"
   ]
  },
  {
   "cell_type": "code",
   "execution_count": 72,
   "id": "2d220275-e386-45ed-bc9f-df607270eecf",
   "metadata": {},
   "outputs": [
    {
     "data": {
      "text/plain": [
       "array([[3, 4, 5, 6],\n",
       "       [1, 2, 3, 4]])"
      ]
     },
     "execution_count": 72,
     "metadata": {},
     "output_type": "execute_result"
    }
   ],
   "source": [
    "#14 Access the element at the 2nd row and 3rd column in a 3 x 3 array \n",
    "a=np.array([[2,4,3,4],[3,4,5,6],[1,2,3,4]])\n",
    "a\n",
    "a[1:]"
   ]
  },
  {
   "cell_type": "code",
   "execution_count": 74,
   "id": "53504d34-7909-4f84-aa3f-cd16ebd0e029",
   "metadata": {},
   "outputs": [
    {
     "name": "stdout",
     "output_type": "stream",
     "text": [
      "Original array:\n",
      " [[1 2 3]\n",
      " [4 5 6]\n",
      " [7 8 9]]\n",
      "Sliced array:\n",
      " [[1 2]\n",
      " [4 5]]\n"
     ]
    }
   ],
   "source": [
    "# 15 slice the first two rows and first two columns from a 3 X 3 array\n",
    "import numpy as np\n",
    "a = np.array([[1, 2, 3],[4, 5, 6],[7, 8, 9]])\n",
    "b = a[:2, :2]\n",
    "\n",
    "print(\"Original array:\\n\", a)\n",
    "print(\"Sliced array:\\n\", b)\n"
   ]
  },
  {
   "cell_type": "code",
   "execution_count": 76,
   "id": "664fe9cf-0b16-4acc-ba89-8df0728401d3",
   "metadata": {},
   "outputs": [
    {
     "data": {
      "text/plain": [
       "array([ 2,  4,  6,  8, 10, 12])"
      ]
     },
     "execution_count": 76,
     "metadata": {},
     "output_type": "execute_result"
    }
   ],
   "source": [
    "# 16 Add two arrays of the same shape \n",
    "a=np.array([1,2,3,4,5,6])\n",
    "b=np.array([1,2,3,4,5,6])\n",
    "print(a+b)"
   ]
  },
  {
   "cell_type": "code",
   "execution_count": 82,
   "id": "a8bc02ee-e8cb-455d-aa99-df543d489819",
   "metadata": {},
   "outputs": [
    {
     "name": "stdout",
     "output_type": "stream",
     "text": [
      "[ -9 -18 -27 -36 -45 -54]\n"
     ]
    }
   ],
   "source": [
    "# 17 Subtract  two arrays of the same shape \n",
    "a=np.array([1,2,3,4,5,6])\n",
    "b=np.array([10,20,30,40,50,60])\n",
    "print(a-b)"
   ]
  },
  {
   "cell_type": "code",
   "execution_count": 83,
   "id": "1b375484-e8a5-466a-bd01-408bb2b69996",
   "metadata": {},
   "outputs": [
    {
     "name": "stdout",
     "output_type": "stream",
     "text": [
      "[ 10  40  90 160 250 360]\n"
     ]
    }
   ],
   "source": [
    "# 18 Multiply  two arrays element wise  \n",
    "a=np.array([1,2,3,4,5,6])\n",
    "b=np.array([10,20,30,40,50,60])\n",
    "print(a*b)"
   ]
  },
  {
   "cell_type": "code",
   "execution_count": 93,
   "id": "32497ab9-80b4-4678-a1c0-726734577db8",
   "metadata": {},
   "outputs": [
    {
     "name": "stdout",
     "output_type": "stream",
     "text": [
      "[ 10  40  90 160 250 360]\n"
     ]
    }
   ],
   "source": [
    "# 19 Perfrom matrix multiplication using @ or np.dot()\n",
    "a=np.array([1,2,3,4,5,6])\n",
    "b=np.array([10,20,30,40,50,60])\n",
    "print(a*b)"
   ]
  },
  {
   "cell_type": "code",
   "execution_count": 89,
   "id": "a03ed6e7-edc7-4a58-9813-6b887c4e1a01",
   "metadata": {},
   "outputs": [
    {
     "name": "stdout",
     "output_type": "stream",
     "text": [
      "Matrix multiplication result:\n",
      " [[140]\n",
      " [320]]\n"
     ]
    }
   ],
   "source": [
    "# 19 Perfrom matrix multiplication using @ or np.dot()\n",
    "import numpy as np\n",
    "a = np.array([[1, 2, 3],[4, 5, 6]])\n",
    "b = np.array([[10],[20],[30]])\n",
    "\n",
    "# Method 1: Using @ operator\n",
    "result = a @ b\n",
    "result\n",
    "# Method 2: Using np.dot()\n",
    "print(\"Matrix multiplication result:\\n\", result)"
   ]
  },
  {
   "cell_type": "code",
   "execution_count": 94,
   "id": "2ccea37f-b7d0-4c97-a144-79dacff8a9ff",
   "metadata": {},
   "outputs": [
    {
     "name": "stdout",
     "output_type": "stream",
     "text": [
      "4.705882352941177\n",
      "5.0\n",
      "2.2166404331078553\n"
     ]
    }
   ],
   "source": [
    "# 20 find the mean ,median ,and standard deviation of an array  \n",
    "a=np.array([1,2,3,4,5,6,7,8,9,5,6,2,3,6,5,2,6])\n",
    "print(np.mean(a))\n",
    "print(np.median(a))\n",
    "print(np.std(a))"
   ]
  },
  {
   "cell_type": "code",
   "execution_count": 102,
   "id": "88a6cd53-9e70-4fe1-a8cb-7165ccf192eb",
   "metadata": {},
   "outputs": [
    {
     "name": "stdout",
     "output_type": "stream",
     "text": [
      "Ascending: [ 2  5  5  5  5  6  6  7  8 55 58 58]\n",
      "Descending: [58 58 55  8  7  6  6  5  5  5  5  2]\n"
     ]
    }
   ],
   "source": [
    "#21 sort a numpy array in ascending and descending order \n",
    "a=np.array([2,5,8,7,5,5,58,55,58,5,6,6])\n",
    "b=(np.sort(a))\n",
    "print(\"Ascending:\",b)\n",
    "c = np.sort(a)[::-1]\n",
    "print(\"Descending:\", c)\n"
   ]
  },
  {
   "cell_type": "code",
   "execution_count": 112,
   "id": "af7e56b7-8592-4c0e-8db5-1d614f600341",
   "metadata": {},
   "outputs": [
    {
     "name": "stdout",
     "output_type": "stream",
     "text": [
      "[ 1  2  3  4  5  6  7  8  9 10 11 12 13 14 15 16 17 18 19 20 21 22 23 24\n",
      " 25 26 27 28 29 30 31 32 33 34 35 36 37 38 39 40 41 42 43 44 45 46 47 48\n",
      " 49 50 50 50 50 50 50 50 50 50 50 50 50 50 50 50 50 50 50 50 50 50 50 50\n",
      " 50 50 50 50 50 50 50 50 50 50 50 50 50 50 50 50 50 50 50 50 50 50 50 50\n",
      " 50 50 50]\n"
     ]
    }
   ],
   "source": [
    "#22 replace all elements greater than 50 in with 50 in an array\n",
    "a=np.arange(1,100)\n",
    "a\n",
    "a[a >= 50] = 50\n",
    "print(a)"
   ]
  },
  {
   "cell_type": "code",
   "execution_count": 122,
   "id": "9fb67026-db10-4dde-98ce-960f35418b40",
   "metadata": {},
   "outputs": [
    {
     "data": {
      "text/plain": [
       "array([[1, 2, 3],\n",
       "       [4, 5, 6],\n",
       "       [1, 3, 1],\n",
       "       [4, 9, 1]])"
      ]
     },
     "execution_count": 122,
     "metadata": {},
     "output_type": "execute_result"
    }
   ],
   "source": [
    "#23 stack two arrays vertically using vstack()\n",
    "a = np.array([[1, 2, 3],[4, 5, 6]])\n",
    "b = np.array([[1,3,1],[4,9,1]])\n",
    "np.vstack((a,b))"
   ]
  },
  {
   "cell_type": "code",
   "execution_count": 123,
   "id": "142c58bf-20a5-414e-bf43-1e32f3ca7aff",
   "metadata": {},
   "outputs": [
    {
     "data": {
      "text/plain": [
       "array([[1, 2, 3, 1, 3, 1],\n",
       "       [4, 5, 6, 4, 9, 1]])"
      ]
     },
     "execution_count": 123,
     "metadata": {},
     "output_type": "execute_result"
    }
   ],
   "source": [
    "#24 stack two arrays vertically using vstack()\n",
    "a = np.array([[1, 2, 3],[4, 5, 6]])\n",
    "b = np.array([[1,3,1],[4,9,1]])\n",
    "np.hstack((a,b))"
   ]
  },
  {
   "cell_type": "code",
   "execution_count": 130,
   "id": "7a748395-27b8-4f2d-9c45-fd7969773759",
   "metadata": {},
   "outputs": [
    {
     "data": {
      "text/plain": [
       "[array([4, 2, 4]), array([5, 5, 6]), array([6, 2, 3])]"
      ]
     },
     "execution_count": 130,
     "metadata": {},
     "output_type": "execute_result"
    }
   ],
   "source": [
    "#25 split a 1D arrray into 3 equal parts \n",
    "a=np.array([4,2,4,5,5,6,6,2,3])\n",
    "a\n",
    "np.split(a,3)"
   ]
  },
  {
   "cell_type": "code",
   "execution_count": 142,
   "id": "4d82947a-e320-4278-9d1b-100f2b7e1473",
   "metadata": {},
   "outputs": [
    {
     "name": "stdout",
     "output_type": "stream",
     "text": [
      "[[1 1 1 1 1]\n",
      " [1 1 1 1 1]\n",
      " [1 1 1 1 1]\n",
      " [1 1 1 1 1]\n",
      " [1 1 1 1 1]]\n",
      "[[1 1 1 1 1]\n",
      " [1 0 0 0 1]\n",
      " [1 0 0 0 1]\n",
      " [1 0 0 0 1]\n",
      " [1 1 1 1 1]]\n"
     ]
    }
   ],
   "source": [
    "#26 Create a 5 x 5 array with a border of 1s and all 0s inside \n",
    "a = np.ones((5, 5), dtype=int)   # Create a 5x5 array of 1s\n",
    "print(a)\n",
    "a[1:-1, 1:-1] = 0   # Set the inner 3x3 block to 0\n",
    "print(a)\n"
   ]
  },
  {
   "cell_type": "code",
   "execution_count": 138,
   "id": "e70e806c-0f06-4d38-9914-9657a12bb244",
   "metadata": {},
   "outputs": [
    {
     "data": {
      "text/plain": [
       "array([  2,   4,   6,   8,  10,  12,  14,  16,  18,  20,  22,  24,  26,\n",
       "        28,  30,  32,  34,  36,  38,  40,  42,  44,  46,  48,  50,  52,\n",
       "        54,  56,  58,  60,  62,  64,  66,  68,  70,  72,  74,  76,  78,\n",
       "        80,  82,  84,  86,  88,  90,  92,  94,  96,  98, 100])"
      ]
     },
     "execution_count": 138,
     "metadata": {},
     "output_type": "execute_result"
    }
   ],
   "source": [
    "#27 Extract all even numbers from a numpy array \n",
    "a=np.arange(2,101,2)\n",
    "a"
   ]
  },
  {
   "cell_type": "code",
   "execution_count": 151,
   "id": "a7313f3f-7321-465f-9213-dca3cbbf77bc",
   "metadata": {},
   "outputs": [
    {
     "name": "stdout",
     "output_type": "stream",
     "text": [
      "Count of values > 2: 2\n"
     ]
    }
   ],
   "source": [
    "# 28 Count how many values are greater than a certain number \n",
    "a=np.array([1,2,3,8])\n",
    "# Count values greater than 2\n",
    "count = np.sum(a > 2)\n",
    "print(\"Count of values > 2:\", count)\n"
   ]
  },
  {
   "cell_type": "code",
   "execution_count": 162,
   "id": "d136776e-11d1-43e0-a77c-9651d41c23c6",
   "metadata": {},
   "outputs": [
    {
     "name": "stdout",
     "output_type": "stream",
     "text": [
      "Minimum value index: 0\n",
      "Maximum value index: 6\n"
     ]
    }
   ],
   "source": [
    "#29 find the index of the maxixmum and minimum element in an array \n",
    "a=np.array([1,2,3,2,5,8,9,6,3,6,8])\n",
    "#b=np.max(a)\n",
    "import numpy as np\n",
    "min_index = np.argmin(a)\n",
    "max_index = np.argmax(a)\n",
    "print(\"Minimum value index:\", min_index)\n",
    "print(\"Maximum value index:\", max_index)\n"
   ]
  },
  {
   "cell_type": "code",
   "execution_count": 163,
   "id": "8f093d14-59bd-498a-83fa-87c94d1e153c",
   "metadata": {},
   "outputs": [
    {
     "data": {
      "text/plain": [
       "False"
      ]
     },
     "execution_count": 163,
     "metadata": {},
     "output_type": "execute_result"
    }
   ],
   "source": [
    "# 30 check if two arrrays are equal \n",
    "a = np.array([[1, 2, 3],[4, 5, 6]])\n",
    "b = np.array([[1,3,1],[4,9,1]])\n",
    "np.array_equal(a,b)"
   ]
  },
  {
   "cell_type": "code",
   "execution_count": 166,
   "id": "6a68d460-6a7c-4ec9-923e-952c8810e9b2",
   "metadata": {},
   "outputs": [
    {
     "data": {
      "text/plain": [
       "array([   4,    5,    8,   45,   55,   58,   88,  585, 8585])"
      ]
     },
     "execution_count": 166,
     "metadata": {},
     "output_type": "execute_result"
    }
   ],
   "source": [
    "#31 get the unique values from an array \n",
    "a=np.array([4,4,4,4,4,45,55,88,585,55,8585,8,5,5,8,5,58])\n",
    "np.unique(a)"
   ]
  },
  {
   "cell_type": "code",
   "execution_count": 172,
   "id": "2f11dad5-391a-4e6c-8dd5-43825790035f",
   "metadata": {},
   "outputs": [
    {
     "name": "stdout",
     "output_type": "stream",
     "text": [
      "[4. 4. 4. 4. 0. 0. 0. 0. 0. 4. 4. 5. 5. 5. 8. 8. 5. 8. 5. 5. 8. 5. 8. 5.\n",
      " 8. 5. 5. 8. 5. 5. 8.]\n"
     ]
    }
   ],
   "source": [
    "#32 replace nan values in an array with 0\n",
    "#a=np.array([4,4,4,4,nan,nan,nan,nan,nan,4,4,5,5,5,8,8,5,8,5,5,8,5,8,5,8,5,5,8,5,5,8])\n",
    "#np.replace(nan,0)\n",
    "a = np.array([4, 4, 4, 4, np.nan, np.nan, np.nan, np.nan, np.nan, 4, 4, 5, 5, 5, 8, 8, 5, 8, 5, 5, 8, 5, 8, 5, 8, 5, 5, 8, 5, 5, 8])\n",
    "# Replace NaNs with 0\n",
    "a[np.isnan(a)] = 0\n",
    "print(a)"
   ]
  },
  {
   "cell_type": "code",
   "execution_count": 1,
   "id": "c2ea4df8-04e9-4458-9996-90ab83b387fd",
   "metadata": {},
   "outputs": [
    {
     "name": "stdout",
     "output_type": "stream",
     "text": [
      "[[-0.75029547  0.31737756  0.19900955]\n",
      " [ 0.16730271 -0.72231871 -0.13626321]\n",
      " [ 0.84387571  1.51144091  1.40598491]]\n"
     ]
    }
   ],
   "source": [
    "# 33 Generate a 3 X 3 array with values from a normal distribution \n",
    "import numpy as np\n",
    "arr = np.random.normal(loc=0, scale=1, size=(3, 3))\n",
    "print(arr)\n"
   ]
  },
  {
   "cell_type": "code",
   "execution_count": 24,
   "id": "d70f2f10-9591-4400-82e4-98bcf300c5e8",
   "metadata": {},
   "outputs": [
    {
     "name": "stdout",
     "output_type": "stream",
     "text": [
      "[[[[1 2 3]\n",
      "   [1 4 5]]\n",
      "\n",
      "  [[8 9 5]\n",
      "   [4 5 8]]]]\n",
      "(1, 2, 2, 3)\n",
      "4\n"
     ]
    }
   ],
   "source": [
    "#34 Create a 4D array and print its shape and dimensions \n",
    "import numpy as np \n",
    "a=np.array([[[[1,2,3],[1,4,5]],[[8,9,5],[4,5,8]]]])\n",
    "print(a)\n",
    "print(np.shape(a))\n",
    "print(np.ndim(a))"
   ]
  },
  {
   "cell_type": "code",
   "execution_count": 25,
   "id": "aa5f0f8a-02d6-421f-b171-239049c29d28",
   "metadata": {},
   "outputs": [
    {
     "name": "stdout",
     "output_type": "stream",
     "text": [
      "[5 8 5 9 8 6 4 5 2 1]\n"
     ]
    }
   ],
   "source": [
    "# 35 Reverse a 1D array using slicing \n",
    "a=np.array([1,2,5,4,6,8,9,5,8,5])\n",
    "print(a[::-1])"
   ]
  },
  {
   "cell_type": "code",
   "execution_count": 40,
   "id": "3ae1a2bf-a293-4574-b6a9-94ea32d78586",
   "metadata": {},
   "outputs": [
    {
     "name": "stdout",
     "output_type": "stream",
     "text": [
      "first array :\n",
      " [1 2 4 5 7 8 8] \n",
      "\n",
      "second array :\n",
      " [[4 5 8 9 7 8 8]\n",
      " [2 4 4 4 7 7 8]] \n",
      "\n",
      "first array + second array \n",
      " [[ 5  7 12 14 14 16 16]\n",
      " [ 3  6  8  9 14 15 16]]\n"
     ]
    }
   ],
   "source": [
    "#36  use broadcasting to add 1D array to each row of a 2D array \n",
    "a=np.array([1,2,4,5,7,8,8])\n",
    "b=np.array([[4,5,8,9,7,8,8],[2,4,4,4,7,7,8]])\n",
    "print('first array :\\n',a,'\\n')\n",
    "print(\"second array :\\n\",b,'\\n')\n",
    "print(\"first array + second array \\n\",a+b)\n"
   ]
  },
  {
   "cell_type": "code",
   "execution_count": 47,
   "id": "0ec0b355-4da1-43f3-9e9a-b0f18150752d",
   "metadata": {},
   "outputs": [
    {
     "data": {
      "text/plain": [
       "array([[  1,   2,   3,   4,   5,   6,   7,   8,   9,  10],\n",
       "       [ 11,  12,  13,  14,  15,  16,  17,  18,  19,  20],\n",
       "       [ 21,  22,  23,  24,  25,  26,  27,  28,  29,  30],\n",
       "       [ 31,  32,  33,  34,  35,  36,  37,  38,  39,  40],\n",
       "       [ 41,  42,  43,  44,  45,  46,  47,  48,  49,  50],\n",
       "       [ 51,  52,  53,  54,  55,  56,  57,  58,  59,  60],\n",
       "       [ 61,  62,  63,  64,  65,  66,  67,  68,  69,  70],\n",
       "       [ 71,  72,  73,  74,  75,  76,  77,  78,  79,  80],\n",
       "       [ 81,  82,  83,  84,  85,  86,  87,  88,  89,  90],\n",
       "       [ 91,  92,  93,  94,  95,  96,  97,  98,  99, 100]])"
      ]
     },
     "execution_count": 47,
     "metadata": {},
     "output_type": "execute_result"
    }
   ],
   "source": [
    "#37 Create a 10 X 10 matrix with values from 1,100\n",
    "a=np.arange(1,101).reshape(10,10)\n",
    "a"
   ]
  },
  {
   "cell_type": "code",
   "execution_count": 51,
   "id": "2c6587fa-11c7-4a16-a738-ee2f53e658d7",
   "metadata": {},
   "outputs": [
    {
     "name": "stdout",
     "output_type": "stream",
     "text": [
      "[-0.43642624 -0.78246252 -1.52705093 -0.81065668 -1.1989079  -0.00480636\n",
      "  0.81809637  0.66266443  0.20378763  2.99906331]\n"
     ]
    }
   ],
   "source": [
    "#38 Normalize an array so that its values range between 0 and 1 \n",
    "arr = np.random.normal(loc=0, scale=1,size=10)\n",
    "print(arr)"
   ]
  },
  {
   "cell_type": "code",
   "execution_count": 87,
   "id": "56cb8628-8ee0-476d-ad91-774b4136dd2c",
   "metadata": {},
   "outputs": [
    {
     "name": "stdin",
     "output_type": "stream",
     "text": [
      "Enter the value of a:  5454\n",
      "Enter the value of b:  54\n",
      "Enter the value of d:  566\n"
     ]
    },
    {
     "name": "stdout",
     "output_type": "stream",
     "text": [
      "The value of a is 5454, the value of b is 54, and the value of d is 566\n",
      "Row with maximum sum: [45 85 78 55 89]\n"
     ]
    }
   ],
   "source": [
    "#39 write a function that takes a numpy array and returns the row with the maximum sum \n",
    "def array():\n",
    "    a = int(input(\"Enter the value of a: \"))\n",
    "    b = int(input(\"Enter the value of b: \"))\n",
    "    d = int(input(\"Enter the value of d: \"))\n",
    "    return a, b, d\n",
    "a, b, d = array()\n",
    "print(f\"The value of a is {a}, the value of b is {b}, and the value of d is {d}\")\n",
    "#h=print(np.array([{a},{b},{d}]))\n",
    "\n",
    "def row_with_max_sum(arr):\n",
    "    row_sums = arr.sum(axis=1)       # Sum along rows\n",
    "    max_row_index = np.argmax(row_sums)  # Index of row with max sum\n",
    "    return arr[max_row_index]        # Return the row\n",
    "h=np.array([[1,2,3,4,5],[4,5,6,7,8],[45,85,78,55,89]])\n",
    "result = row_with_max_sum(h)\n",
    "print(\"Row with maximum sum:\", result)"
   ]
  },
  {
   "cell_type": "code",
   "execution_count": 88,
   "id": "fffaec8f-e552-471f-ba8a-ed853ee0fafe",
   "metadata": {},
   "outputs": [
    {
     "name": "stdout",
     "output_type": "stream",
     "text": [
      "Original array: [10 25  5 30 12  7 50  3]\n",
      "Values less than 15: [10  5 12  7  3]\n"
     ]
    }
   ],
   "source": [
    "# 40 Use boolean indexing to select values less than a threshold  \n",
    "arr = np.array([10, 25, 5, 30, 12, 7, 50, 3])\n",
    "threshold = 15   # threshold any random number \n",
    "result = arr[arr < threshold]\n",
    "print(\"Original array:\", arr)\n",
    "print(f\"Values less than {threshold}:\", result)\n"
   ]
  },
  {
   "cell_type": "code",
   "execution_count": 89,
   "id": "aacba786-5d9b-4fe0-b978-85d47082c444",
   "metadata": {},
   "outputs": [
    {
     "name": "stdout",
     "output_type": "stream",
     "text": [
      "Checkerboard pattern:\n",
      " [[0 1 0 1 0 1 0 1]\n",
      " [1 0 1 0 1 0 1 0]\n",
      " [0 1 0 1 0 1 0 1]\n",
      " [1 0 1 0 1 0 1 0]\n",
      " [0 1 0 1 0 1 0 1]\n",
      " [1 0 1 0 1 0 1 0]\n",
      " [0 1 0 1 0 1 0 1]\n",
      " [1 0 1 0 1 0 1 0]]\n"
     ]
    }
   ],
   "source": [
    "#41 Creeate a checkerboard pattern (like a chessboard) using numpy\n",
    "import numpy as np\n",
    "checkerboard = np.zeros((8, 8), dtype=int)\n",
    "\n",
    "# Fill alternate squares with 1s to create checkerboard pattern\n",
    "checkerboard[1::2, ::2] = 1  # rows 1,3,5,7 → columns 0,2,4,6\n",
    "checkerboard[::2, 1::2] = 1  # rows 0,2,4,6 → columns 1,3,5,7\n",
    "\n",
    "print(\"Checkerboard pattern:\\n\", checkerboard)\n"
   ]
  },
  {
   "cell_type": "code",
   "execution_count": 92,
   "id": "8f730124-6fd9-4be6-81d3-9cb91d646ce0",
   "metadata": {},
   "outputs": [
    {
     "data": {
      "text/plain": [
       "array([1, 4, 5, 8])"
      ]
     },
     "execution_count": 92,
     "metadata": {},
     "output_type": "execute_result"
    }
   ],
   "source": [
    "#42 Find the common elements between 2 arrays\n",
    "a=np.array([1,2,5,4,8,7,8,5,5,8,5,8])\n",
    "b=np.array([1,5,8,9,6,4,5,5,5,8,5,8])\n",
    "np.intersect1d(a,b)"
   ]
  },
  {
   "cell_type": "code",
   "execution_count": 11,
   "id": "3c5c1230-7a4c-4c13-8e48-946f66d2d93e",
   "metadata": {},
   "outputs": [
    {
     "data": {
      "text/plain": [
       "array([1, 0, 0, 4, 0, 0, 8, 0, 5, 0, 0, 0])"
      ]
     },
     "execution_count": 11,
     "metadata": {},
     "output_type": "execute_result"
    }
   ],
   "source": [
    "#43 use np.where () to replace negative values with 0 and keep others the same \n",
    "a=np.array([1,-2,-5,4,-8,-7,8,-5,5,-8,-5,-8])\n",
    "b=np.where(a<0,0,a)\n",
    "b"
   ]
  },
  {
   "cell_type": "code",
   "execution_count": 15,
   "id": "2507aacc-32da-4b3e-8428-a5ede0043dd0",
   "metadata": {},
   "outputs": [
    {
     "data": {
      "text/plain": [
       "array([[1, 2, 5, 4, 8, 7, 8, 5, 5, 8, 5, 8, 1, 2, 5, 4, 8, 7, 8, 5, 5, 8,\n",
       "        5, 8],\n",
       "       [1, 2, 5, 4, 8, 7, 8, 5, 5, 8, 5, 8, 1, 2, 5, 4, 8, 7, 8, 5, 5, 8,\n",
       "        5, 8]])"
      ]
     },
     "execution_count": 15,
     "metadata": {},
     "output_type": "execute_result"
    }
   ],
   "source": [
    "#44 Tile a small array into a larger matrix using np.title()\n",
    "a=np.array([1,2,5,4,8,7,8,5,5,8,5,8])\n",
    "np.tile(a,(2,2))"
   ]
  },
  {
   "cell_type": "code",
   "execution_count": 22,
   "id": "f587c5ea-ecef-43ab-a1ef-891d8981155d",
   "metadata": {},
   "outputs": [
    {
     "name": "stdout",
     "output_type": "stream",
     "text": [
      "[[[ 2  4  6]\n",
      "  [ 5  7  9]\n",
      "  [ 8 10 12]]]\n"
     ]
    }
   ],
   "source": [
    "#45 Broadcast a 1D array across a 3D array \n",
    "import numpy as np \n",
    "a=np.array([1,2,3])\n",
    "b=np.array([[[1,2,3],[4,5,6],[7,8,9]]])\n",
    "np.ndim(b)\n",
    "print(a+b)"
   ]
  },
  {
   "cell_type": "code",
   "execution_count": 23,
   "id": "789321fe-0834-498c-88e2-13a623d3a593",
   "metadata": {},
   "outputs": [
    {
     "data": {
      "text/plain": [
       "8"
      ]
     },
     "execution_count": 23,
     "metadata": {},
     "output_type": "execute_result"
    }
   ],
   "source": [
    "#46 use np.argmax() to find the index of the largest element along an axis\n",
    "b=np.array([[[1,2,3],[4,5,6],[7,8,9]]])\n",
    "np.argmax(b)"
   ]
  },
  {
   "cell_type": "code",
   "execution_count": 26,
   "id": "e62a7c3d-a5f2-4796-b49a-396c75941c06",
   "metadata": {},
   "outputs": [
    {
     "name": "stdout",
     "output_type": "stream",
     "text": [
      "Random Array: [0.37454012 0.95071431 0.73199394 0.59865848 0.15601864]\n"
     ]
    }
   ],
   "source": [
    "#47 Generate a random seed and create reproducible random arrays\n",
    "import numpy as np\n",
    "\n",
    "# Set the seed for reproducibility\n",
    "np.random.seed(42)\n",
    "\n",
    "# Generate a random array\n",
    "random_array = np.random.rand(5)  # 5 random numbers between 0 and 1\n",
    "\n",
    "print(\"Random Array:\", random_array)\n"
   ]
  },
  {
   "cell_type": "code",
   "execution_count": 28,
   "id": "2e1e88f7-451d-4f3e-9615-7386a80fb9b8",
   "metadata": {},
   "outputs": [
    {
     "name": "stdout",
     "output_type": "stream",
     "text": [
      "Array: [10  3 20  9  7  4]\n",
      "Sorted: [ 3  4  7  9 10 20]\n",
      "Pair with minimum absolute difference: (3, 4)\n"
     ]
    }
   ],
   "source": [
    "#48 Find the pair of values with the minimum absolute diff from an array \n",
    "import numpy as np\n",
    "a = np.array([10, 3, 20, 9, 7, 4])\n",
    "sorted_a = np.sort(a)\n",
    "# Step 2: Compute absolute differences between consecutive elements\n",
    "diffs = np.abs(np.diff(sorted_a))\n",
    "# Step 3: Find the index of the minimum difference\n",
    "min_index = np.argmin(diffs)\n",
    "# Step 4: Get the pair with the smallest difference\n",
    "pair = (sorted_a[min_index], sorted_a[min_index + 1])\n",
    "print(\"Array:\", a)\n",
    "print(\"Sorted:\", sorted_a)\n",
    "print(\"Pair with minimum absolute difference:\", pair)\n"
   ]
  },
  {
   "cell_type": "code",
   "execution_count": 29,
   "id": "56a25af1-ef13-4cc9-931c-13a1d754080f",
   "metadata": {},
   "outputs": [
    {
     "name": "stdout",
     "output_type": "stream",
     "text": [
      "Horizontally Flipped:\n",
      " [[3 2 1]\n",
      " [6 5 4]\n",
      " [9 8 7]]\n",
      "Vertically Flipped:\n",
      " [[7 8 9]\n",
      " [4 5 6]\n",
      " [1 2 3]]\n"
     ]
    }
   ],
   "source": [
    "#49 use slicing to flip a 2D array horizontally and vertically \n",
    "import numpy as np\n",
    "\n",
    "# Sample 2D array\n",
    "a = np.array([[1, 2, 3],\n",
    "              [4, 5, 6],\n",
    "              [7, 8, 9]])\n",
    "horizontal_flip = a[:, ::-1]\n",
    "print(\"Horizontally Flipped:\\n\", horizontal_flip)\n",
    "vertical_flip = a[::-1, :]\n",
    "print(\"Vertically Flipped:\\n\", vertical_flip)\n"
   ]
  },
  {
   "cell_type": "code",
   "execution_count": 30,
   "id": "62aa2c8c-75ca-4272-b0e4-abb724b4d179",
   "metadata": {},
   "outputs": [
    {
     "name": "stdout",
     "output_type": "stream",
     "text": [
      "3D Array:\n",
      " [[[ 1  2  3  4]\n",
      "  [ 5  6  7  8]\n",
      "  [ 9 10 11 12]]\n",
      "\n",
      " [[13 14 15 16]\n",
      "  [17 18 19 20]\n",
      "  [21 22 23 24]]]\n",
      "Shape: (2, 3, 4)\n"
     ]
    }
   ],
   "source": [
    "#50 Create a 3D array and compute its sum along different axes \n",
    "import numpy as np\n",
    "\n",
    "# Create a 3D array of shape (2, 3, 4)\n",
    "a = np.array([\n",
    "    [[1, 2, 3, 4],\n",
    "     [5, 6, 7, 8],\n",
    "     [9,10,11,12]],\n",
    "\n",
    "    [[13,14,15,16],\n",
    "     [17,18,19,20],\n",
    "     [21,22,23,24]]\n",
    "])\n",
    "\n",
    "print(\"3D Array:\\n\", a)\n",
    "print(\"Shape:\", a.shape)\n"
   ]
  },
  {
   "cell_type": "code",
   "execution_count": 2,
   "id": "54d208b5-7116-428b-a537-ffd74d5da341",
   "metadata": {},
   "outputs": [
    {
     "data": {
      "text/plain": [
       "array([2, 6, 7, 9])"
      ]
     },
     "execution_count": 2,
     "metadata": {},
     "output_type": "execute_result"
    }
   ],
   "source": [
    "#51  Find the common elements between 2 arrays\n",
    "import numpy as np\n",
    "a=np.array([1,2,5,4,8,7,8,5,5,8,5,8])\n",
    "b=np.array([1,5,8,9,6,4,5,5,5,8,5,8])\n",
    "np.setxor1d(a,b)"
   ]
  },
  {
   "cell_type": "code",
   "execution_count": 35,
   "id": "0d16da9e-b5eb-4ccc-a0a2-97a5d577ae96",
   "metadata": {},
   "outputs": [
    {
     "data": {
      "text/plain": [
       "array([10, 15, 20, 25, 30, 35, 40, 45])"
      ]
     },
     "execution_count": 35,
     "metadata": {},
     "output_type": "execute_result"
    }
   ],
   "source": [
    "#52  print numbers between 10 ,50 with step value 5 .\n",
    "import numpy as np\n",
    "np.arange(10,50,5)"
   ]
  },
  {
   "cell_type": "code",
   "execution_count": null,
   "id": "8907f034-7249-4552-b313-78521d8e3855",
   "metadata": {},
   "outputs": [],
   "source": [
    "# 53 create a numpy array with numpy module of integer and float datatype \n",
    "import numpy as np \n",
    "d=np.array([1,2,3],dtype=int)\n",
    "d\n",
    "import numpy as np \n",
    "d=np.array([1,2,3],dtype=float)\n",
    "d"
   ]
  },
  {
   "cell_type": "code",
   "execution_count": null,
   "id": "1b9651b6-786b-47e8-a9cd-4a1c1ad93473",
   "metadata": {},
   "outputs": [],
   "source": [
    "# 54 create arrays of 0,1,2,3,4 dimensions and check their  shape ,size and dimensions \n",
    "a=np.array([[1,2,3,4],[1,2,3,4],[5,8,7,9],[7,8,9,6]])\n",
    "print(a)\n",
    "print(a.shape)\n",
    "print(a.ndim)\n",
    "print(a.size)"
   ]
  },
  {
   "cell_type": "code",
   "execution_count": null,
   "id": "725c2cd3-fc32-4e81-b70f-0ed85e95c5e8",
   "metadata": {},
   "outputs": [],
   "source": [
    "#55 create a 0,1,2,3,4 dimensional array and print their shape , size and dimension \n",
    "import numpy as np\n",
    "\n",
    "# 0D array (scalar)\n",
    "a0 = np.array(5)\n",
    "print(\"0D Array:\", a0)\n",
    "print(\"Shape:\", a0.shape)\n",
    "print(\"Dimensions:\", a0.ndim)\n",
    "print(\"Size:\", a0.size)\n",
    "print()\n",
    "\n",
    "# 1D array\n",
    "a1 = np.array([1, 2, 3])\n",
    "print(\"1D Array:\", a1)\n",
    "print(\"Shape:\", a1.shape)\n",
    "print(\"Dimensions:\", a1.ndim)\n",
    "print(\"Size:\", a1.size)\n",
    "print()\n",
    "\n",
    "# 2D array\n",
    "a2 = np.array([[1, 2, 3], [4, 5, 6]])\n",
    "print(\"2D Array:\\n\", a2)\n",
    "print(\"Shape:\", a2.shape)\n",
    "print(\"Dimensions:\", a2.ndim)\n",
    "print(\"Size:\", a2.size)\n",
    "print()\n",
    "\n",
    "# 3D array\n",
    "a3 = np.array([[[1, 2], [3, 4]], [[5, 6], [7, 8]]])\n",
    "print(\"3D Array:\\n\", a3)\n",
    "print(\"Shape:\", a3.shape)\n",
    "print(\"Dimensions:\", a3.ndim)\n",
    "print(\"Size:\", a3.size)\n",
    "print()\n",
    "\n",
    "# 4D array\n",
    "a4 = np.array([[[[1], [2]], [[3], [4]]]])\n",
    "print(\"4D Array:\\n\", a4)\n",
    "print(\"Shape:\", a4.shape)\n",
    "print(\"Dimensions:\", a4.ndim)\n",
    "print(\"Size:\", a4.size)"
   ]
  },
  {
   "cell_type": "code",
   "execution_count": null,
   "id": "aac8028f-14e6-4a9d-bcc0-15ca6a0f1291",
   "metadata": {},
   "outputs": [],
   "source": [
    "# 56 create a 2*2 and 3*3 identity mtrix using 2 different methods\n",
    "import numpy as np \n",
    "#i1=np.array([[1,0,0],[0,1,0],[0,0,1]])\n",
    "#i1\n",
    "a=np.eye(5,6)\n",
    "a\n"
   ]
  },
  {
   "cell_type": "code",
   "execution_count": null,
   "id": "20abf924-b6b6-4f98-8c08-81638aed0a1d",
   "metadata": {},
   "outputs": [],
   "source": [
    "# 57 Generate 20 random integers between 1 and 100\n",
    "b=np.random.randint(1,100,20)\n",
    "b\n",
    "\n",
    "a=np.array([[0,0,0np.zeros((2,5))\n",
    "np.random.randint(1,100,25)\n",
    "g= np.round(np.random.uniform(1,200,25),5)\n",
    "g,0,0],[0,0,0,0,0]])\n",
    "np.sort(b)\n",
    "np.transpose(b)\n",
    "b=np.random.randint(1,101,15)\n",
    "np.argsort(b)"
   ]
  },
  {
   "cell_type": "code",
   "execution_count": null,
   "id": "abed12a5-45bd-4d35-acf1-742e0c9dcadb",
   "metadata": {},
   "outputs": [],
   "source": [
    "# 58 create arrays of 0,1,2,3,4 dimensions and check their shape,size and dimensions\n",
    "z=np.array(1)    #0Dim array\n",
    "print(z.shape)\n",
    "print(z.ndim)\n",
    "print(z.size)\n",
    "\n",
    "\n",
    "one=np.array([1,2,3,4,5,6])    # one Dim array\n",
    "print(one.shape)\n",
    "print(one.ndim)\n",
    "print(one.size)\n",
    "\n",
    "two=np.array([[1,2,3,4,5,6],[1,2,3,4,5,6]])    # one Dim array\n",
    "print(two.shape)\n",
    "print(two.ndim)\n",
    "print(two.size)\n",
    "\n"
   ]
  },
  {
   "cell_type": "code",
   "execution_count": null,
   "id": "d3edbff4-d7f3-419c-9599-82c4a5a2d27c",
   "metadata": {},
   "outputs": [],
   "source": [
    "# 59 create a numpy array with numpy module of in integer datatype \n",
    "import numpy as np\n",
    "a1=np.array([2,3,4],dtype=int)\n",
    "a1\n"
   ]
  },
  {
   "cell_type": "code",
   "execution_count": null,
   "id": "ca74ff94-785c-4ba0-8cd8-0828d02ada97",
   "metadata": {},
   "outputs": [],
   "source": [
    "# 60 crreate a numpy array with numpy module of in float ddatatype \n",
    "import numpy as np\n",
    "a1=np.array([2,3,4],dtype=float)\n",
    "a1"
   ]
  }
 ],
 "metadata": {
  "kernelspec": {
   "display_name": "Python 3 (ipykernel)",
   "language": "python",
   "name": "python3"
  },
  "language_info": {
   "codemirror_mode": {
    "name": "ipython",
    "version": 3
   },
   "file_extension": ".py",
   "mimetype": "text/x-python",
   "name": "python",
   "nbconvert_exporter": "python",
   "pygments_lexer": "ipython3",
   "version": "3.12.7"
  }
 },
 "nbformat": 4,
 "nbformat_minor": 5
}
