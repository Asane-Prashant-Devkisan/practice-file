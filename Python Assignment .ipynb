{
 "cells": [
  {
   "cell_type": "markdown",
   "id": "84902b5b-e32a-4b43-8341-a3eb9ac385bf",
   "metadata": {},
   "source": [
    "###Assignment problem solving \n"
   ]
  },
  {
   "cell_type": "code",
   "execution_count": null,
   "id": "3de7c10a-e414-433c-a51e-8ff85ce893a6",
   "metadata": {},
   "outputs": [],
   "source": [
    "#Q1. Using Python script as a calculator Create the variables n, r, p and assign them values 10, 5, and 100 respectively. Thenevaluate the following expression in the Python console.\n",
    " #𝐴 = 𝑝 (1 + 𝑟/ 100)n\n",
    "n=10\n",
    "r=5\n",
    "p=100\n",
    "A=p*((1+r/100)**n)\n",
    "print(A)"
   ]
  },
  {
   "cell_type": "code",
   "execution_count": 12,
   "id": "b4844b39-b3e4-4388-b20d-bb72b24630b2",
   "metadata": {},
   "outputs": [],
   "source": [
    "A=10\n",
    "B=20\n",
    "Str =\"there are {} students in the class {} with who play atleast one sport\""
   ]
  },
  {
   "cell_type": "code",
   "execution_count": 14,
   "id": "6e079320-ab61-47ac-8fe3-dfb612fd3389",
   "metadata": {},
   "outputs": [
    {
     "name": "stdout",
     "output_type": "stream",
     "text": [
      "string.format(a,b)\n"
     ]
    }
   ],
   "source": [
    "print(\"string.format(a,b)\")"
   ]
  },
  {
   "cell_type": "code",
   "execution_count": 16,
   "id": "86950b8e-c515-4909-83c1-c885281b14d2",
   "metadata": {},
   "outputs": [
    {
     "name": "stdout",
     "output_type": "stream",
     "text": [
      "there are 10 students in the class 20 with who play atleast one sport\n"
     ]
    }
   ],
   "source": [
    "print(Str.format(A, B))"
   ]
  },
  {
   "cell_type": "code",
   "execution_count": 18,
   "id": "cf417cbe-ab36-4355-835c-518e510f945e",
   "metadata": {},
   "outputs": [
    {
     "data": {
      "text/plain": [
       "3"
      ]
     },
     "execution_count": 18,
     "metadata": {},
     "output_type": "execute_result"
    }
   ],
   "source": [
    "x = lambda a,b: a//b\n",
    "x(10,3)"
   ]
  },
  {
   "cell_type": "code",
   "execution_count": 20,
   "id": "f0525a5a-b207-46b4-8aec-9291168715d1",
   "metadata": {},
   "outputs": [
    {
     "name": "stdout",
     "output_type": "stream",
     "text": [
      "Smaller\n"
     ]
    }
   ],
   "source": [
    " A = 10\n",
    " B = 10\n",
    " print(\"Smaller\") if A == B else print(\"Greater\") if A < B else print(\"True\")"
   ]
  },
  {
   "cell_type": "code",
   "execution_count": 22,
   "id": "8d9be824-c63b-4adb-bdec-582771a8c225",
   "metadata": {},
   "outputs": [
    {
     "name": "stdout",
     "output_type": "stream",
     "text": [
      "[2, 5, 7, 8, 9]\n",
      "[2 5 7 8 9]\n"
     ]
    }
   ],
   "source": [
    "import os \n",
    "import numpy as np\n",
    "my_list1=[2,5,7,8,9]\n",
    "print(my_list1)\n",
    "arr_1=np.array(my_list1,dtype=int)\n",
    "print(arr_1)"
   ]
  },
  {
   "cell_type": "code",
   "execution_count": 28,
   "id": "0d703c22-bc73-444d-a866-59f4051ca9be",
   "metadata": {},
   "outputs": [
    {
     "data": {
      "text/plain": [
       "'learn'"
      ]
     },
     "execution_count": 28,
     "metadata": {},
     "output_type": "execute_result"
    }
   ],
   "source": [
    "string=\"machine learning\"\n",
    "string[slice(8,13,1)]"
   ]
  },
  {
   "cell_type": "code",
   "execution_count": 37,
   "id": "f2bcd5e8-d833-41e5-98e4-2575f005d5ce",
   "metadata": {},
   "outputs": [
    {
     "name": "stdout",
     "output_type": "stream",
     "text": [
      "[10, 14, 18, 22]\n"
     ]
    }
   ],
   "source": [
    "sequence = list(range(10, 26, 4))\n",
    "print(sequence)  # Output: [10, 14, 18, 22]\n",
    "    \n",
    "    "
   ]
  },
  {
   "cell_type": "code",
   "execution_count": 41,
   "id": "2cc66eca-31c3-40b9-b01d-5dd089198975",
   "metadata": {},
   "outputs": [
    {
     "data": {
      "text/plain": [
       "2"
      ]
     },
     "execution_count": 41,
     "metadata": {},
     "output_type": "execute_result"
    }
   ],
   "source": [
    "a=sequence.index(18)\n",
    "a"
   ]
  },
  {
   "cell_type": "code",
   "execution_count": 42,
   "id": "b4a9cfa9-51c4-4308-8ae3-317afc312a8f",
   "metadata": {},
   "outputs": [
    {
     "name": "stdout",
     "output_type": "stream",
     "text": [
      "625 625\n"
     ]
    }
   ],
   "source": [
    "num1=5**4\n",
    "num2=pow(5,4)\n",
    "print(num1,num2)"
   ]
  },
  {
   "cell_type": "code",
   "execution_count": null,
   "id": "33b93681-ff32-41ef-8751-06bdad15fe7c",
   "metadata": {},
   "outputs": [],
   "source": [
    "x=\"string\"\n",
    "int(x)"
   ]
  },
  {
   "cell_type": "code",
   "execution_count": 44,
   "id": "2fc04a97-d416-471d-924a-bfa6ca088545",
   "metadata": {},
   "outputs": [],
   "source": [
    "Z =\"ID-5632\""
   ]
  },
  {
   "cell_type": "code",
   "execution_count": 46,
   "id": "154e78c8-6c01-4df3-9302-331e4966b35e",
   "metadata": {},
   "outputs": [
    {
     "data": {
      "text/plain": [
       "str"
      ]
     },
     "execution_count": 46,
     "metadata": {},
     "output_type": "execute_result"
    }
   ],
   "source": [
    "type(Z)"
   ]
  },
  {
   "cell_type": "code",
   "execution_count": 72,
   "id": "377c8447-d046-4d6a-b6b9-922115838968",
   "metadata": {},
   "outputs": [],
   "source": [
    "country={'india':'delhi','china':'beijing','japan':'tokyo','qatar':'doha','france':'marceiles'}"
   ]
  },
  {
   "cell_type": "code",
   "execution_count": 52,
   "id": "1a611a2a-dc30-44cd-a545-81f6127a70c6",
   "metadata": {},
   "outputs": [
    {
     "data": {
      "text/plain": [
       "dict_keys(['india', 'china', 'japan', 'qatar', 'france'])"
      ]
     },
     "execution_count": 52,
     "metadata": {},
     "output_type": "execute_result"
    }
   ],
   "source": [
    "country.keys()"
   ]
  },
  {
   "cell_type": "code",
   "execution_count": 74,
   "id": "a54b7e64-0ae3-4620-a5d8-4f2fe2e403fc",
   "metadata": {},
   "outputs": [],
   "source": [
    "country['france']='paris'"
   ]
  },
  {
   "cell_type": "code",
   "execution_count": 70,
   "id": "61dba13c-0cd5-4f31-874d-a3f4d0d35e42",
   "metadata": {},
   "outputs": [
    {
     "data": {
      "text/plain": [
       "dict_values(['paris'])"
      ]
     },
     "execution_count": 70,
     "metadata": {},
     "output_type": "execute_result"
    }
   ],
   "source": [
    "country.values()"
   ]
  },
  {
   "cell_type": "code",
   "execution_count": 75,
   "id": "42b6e511-1e51-401d-bb7f-82f22b61a96d",
   "metadata": {},
   "outputs": [
    {
     "name": "stdout",
     "output_type": "stream",
     "text": [
      "{'india': 'delhi', 'china': 'beijing', 'japan': 'tokyo', 'qatar': 'doha', 'france': 'paris'}\n"
     ]
    }
   ],
   "source": [
    "print(country)"
   ]
  },
  {
   "cell_type": "code",
   "execution_count": 76,
   "id": "0600d50f-1fb9-47c6-ac5a-c674c7fff5ab",
   "metadata": {},
   "outputs": [],
   "source": [
    " tuple_1 = (1,5,6,7,8)\n",
    " tuple_2 = (8,9,4)"
   ]
  },
  {
   "cell_type": "code",
   "execution_count": 83,
   "id": "efbf46f1-edae-445e-b431-edf7fa21903e",
   "metadata": {},
   "outputs": [],
   "source": [
    "#sum(tuple_1)\n",
    "#len(tuple_2)\n",
    "#tuple_2 + tuple_1\n",
    "#tuple_1[3] = 45"
   ]
  },
  {
   "cell_type": "markdown",
   "id": "7ecb5abf-2deb-4157-831d-745867284624",
   "metadata": {},
   "source": [
    "#How many elements in the following data structure?\n",
    "s={1,2,3,4,4,4,5,6}\n",
    "len(s)"
   ]
  },
  {
   "cell_type": "code",
   "execution_count": 88,
   "id": "84e588cd-cfef-45cc-97be-81cbcfae44fc",
   "metadata": {},
   "outputs": [
    {
     "name": "stdout",
     "output_type": "stream",
     "text": [
      "[(3, 4, 5)]\n"
     ]
    }
   ],
   "source": [
    "#Write a function which finds all pythagorean triplets of triangles whose sides are no greater than a natural number N\n",
    "def pythagorean_triplets(N):\n",
    "    triplets = []\n",
    "    for a in range(1, N + 1):\n",
    "        for b in range(a, N + 1):  # Start from a to ensure a <= b\n",
    "            c_squared = a**2 + b**2\n",
    "            c = int(c_squared ** 0.5)\n",
    "            if c <= N and c_squared == c**2:  # Check if c is integer and ≤ N\n",
    "                triplets.append((a, b, c))\n",
    "    return triplets\n",
    "\n",
    "# Example Usage\n",
    "N = 9\n",
    "print(pythagorean_triplets(N))"
   ]
  },
  {
   "cell_type": "markdown",
   "id": "ddf09f63-1117-4ac6-9165-afd100379ed6",
   "metadata": {},
   "source": [
    "##  multiple inheritance oops \n"
   ]
  },
  {
   "cell_type": "code",
   "execution_count": null,
   "id": "2e2d139f-e7e5-45c0-9fb7-6dfa43a79164",
   "metadata": {},
   "outputs": [],
   "source": [
    " Write a Python program to demonstrate multiple inheritance.\n",
    " 1. Employee class has 3 data members EmployeeID, Gender (String), Salary and\n",
    " PerformanceRating(Out of 5) of type int. It has a get() function to get these details from\n",
    " the user.\n",
    " 2. JoiningDetail class has a data member DateOfJoining of type Date and a function\n",
    " getDoJ to get the Date of joining of employees.\n",
    " 3. Information Class uses the marks from Employee class and the DateOfJoining date\n",
    " from the JoiningDetail class to calculate the top 3 Employees based on their Ratings\n",
    " and then Display, using readData, all the details on these employees in Ascending\n",
    " order of their Date Of Joining"
   ]
  },
  {
   "cell_type": "code",
   "execution_count": 90,
   "id": "7e128940-29fd-487e-a588-b897a8dde0e8",
   "metadata": {},
   "outputs": [],
   "source": [
    "class employee():\n",
    "    def __init__(self):\n",
    "        self.employeeid=int(input(\"enter your employeeid:\"))\n",
    "        self.gender=str(input(\"enter your gender:\"))\n",
    "        self.salary=int(input(\"enter your salary\"))\n",
    "        self.performancerating=int(input(\"rate us '1,2,3,4,5':\"))\n",
    "    def get_employee(self):\n",
    "        return self.employeeid,self.gender,self.get_employee,self.salary"
   ]
  },
  {
   "cell_type": "code",
   "execution_count": null,
   "id": "9975af45-d2fe-465f-970c-495bf88f2d54",
   "metadata": {},
   "outputs": [],
   "source": []
  },
  {
   "cell_type": "code",
   "execution_count": 8,
   "id": "00bfa2d1-b923-4c19-93a5-96d4a4894157",
   "metadata": {},
   "outputs": [],
   "source": [
    "class employee:\n",
    "    def __init__(self):\n",
    "        self.employeeid = int(input(\"Enter your employee ID: \"))\n",
    "        self.gender = input(\"Enter your gender: \")\n",
    "        self.salary = int(input(\"Enter your salary: \"))\n",
    "        self.performancerating = int(input(\"Rate us (1-5): \"))\n",
    "        \n",
    "    def get_employee(self):\n",
    "        return self.employeeid, self.gender, self.salary, self.performancerating"
   ]
  },
  {
   "cell_type": "code",
   "execution_count": 9,
   "id": "2ace2209-f18f-4ea5-b995-1eacc99d2b2c",
   "metadata": {},
   "outputs": [
    {
     "name": "stdin",
     "output_type": "stream",
     "text": [
      "Enter your employee ID:  2121\n",
      "Enter your gender:  M\n",
      "Enter your salary:  14\n",
      "Rate us (1-5):  5\n"
     ]
    },
    {
     "name": "stdout",
     "output_type": "stream",
     "text": [
      "ID: 2121, Salary: 14\n",
      "All details: (2121, 'M', 14, 5)\n"
     ]
    }
   ],
   "source": [
    "# Create an employee instance\n",
    "emp1 = employee()  # This will prompt for all details\n",
    "\n",
    "# Access the employee's attributes directly\n",
    "print(f\"ID: {emp1.employeeid}, Salary: {emp1.salary}\")\n",
    "\n",
    "# Use the get_employee() method\n",
    "details = emp1.get_employee()\n",
    "print(f\"All details: {details}\")"
   ]
  },
  {
   "cell_type": "code",
   "execution_count": null,
   "id": "9414d68a-6d83-4382-905d-5cdd0876b9d1",
   "metadata": {},
   "outputs": [],
   "source": [
    "class Employee:\n",
    "    def __init__(self):\n",
    "        self.EmployeeID = None\n",
    "        self.Gender = None\n",
    "        self.Salary = None\n",
    "        self.PerformanceRating = None\n",
    "\n",
    "    def get(self):\n",
    "        self.EmployeeID = input(\"Enter Employee ID: \")\n",
    "        self.Gender = input(\"Enter Gender (M/F/O): \")\n",
    "        self.Salary = float(input(\"Enter Salary: \"))\n",
    "        self.PerformanceRating = int(input(\"Enter Performance Rating (1-5): \"))\n",
    "\n",
    "class Department:\n",
    "    def __init__(self):\n",
    "        self.DeptName = None\n",
    "\n",
    "    def get_dept(self):\n",
    "        self.DeptName = input(\"Enter Department Name: \")\n",
    "\n",
    "class Role:\n",
    "    def __init__(self):\n",
    "        self.JobTitle = None\n",
    "\n",
    "    def get_role(self):\n",
    "        self.JobTitle = input(\"Enter Job Title: \")\n",
    "\n",
    "class FullDetails(Department, Role, Employee):\n",
    "    def __init__(self):\n",
    "        Employee.__init__(self)\n",
    "        Department.__init__(self)\n",
    "        Role.__init__(self)\n",
    "\n",
    "    def get_all(self):\n",
    "        self.get()          # From Employee\n",
    "        self.get_dept()     # From Department\n",
    "        self.get_role()     # From Role\n",
    "\n",
    "    def display(self):\n",
    "        print(\"\\nEmployee Details:\")\n",
    "        print(f\"ID: {self.EmployeeID}\")\n",
    "        print(f\"Gender: {self.Gender}\")\n",
    "        print(f\"Salary: {self.Salary}\")\n",
    "        print(f\"Performance Rating: {self.PerformanceRating}\")\n",
    "        print(f\"Department: {self.DeptName}\")\n",
    "        print(f\"Job Title: {self.JobTitle}\")\n",
    "\n",
    "# Demo\n",
    "emp = FullDetails()\n",
    "emp.get_all()\n",
    "emp.display()"
   ]
  },
  {
   "cell_type": "markdown",
   "id": "27ed1cc4-7f07-4f55-888f-38047a1c22bd",
   "metadata": {},
   "source": [
    "Assignment -1 "
   ]
  },
  {
   "cell_type": "code",
   "execution_count": null,
   "id": "255b7ae5-1321-4d83-8aea-71ba98d9add1",
   "metadata": {},
   "outputs": [],
   "source": [
    "for i in range(1,10):\n",
    "    print(i)"
   ]
  },
  {
   "cell_type": "code",
   "execution_count": 9,
   "id": "bcf1d178-a41d-478f-ba5a-65e0d6599976",
   "metadata": {},
   "outputs": [
    {
     "name": "stdout",
     "output_type": "stream",
     "text": [
      "1\n",
      "2\n",
      "3\n",
      "4\n",
      "5\n",
      "6\n",
      "7\n",
      "8\n",
      "9\n",
      "10\n"
     ]
    }
   ],
   "source": [
    "count=1\n",
    "while count<=10:\n",
    "    print(count)\n",
    "    count+=1\n"
   ]
  },
  {
   "cell_type": "code",
   "execution_count": 18,
   "id": "dec5b609-04d9-4171-b59e-ad90376451d0",
   "metadata": {},
   "outputs": [
    {
     "name": "stdin",
     "output_type": "stream",
     "text": [
      "enter first number : 2\n",
      "enter second number : 3\n",
      "enter third number : 5\n"
     ]
    },
    {
     "name": "stdout",
     "output_type": "stream",
     "text": [
      "The greatest number is: 5\n"
     ]
    }
   ],
   "source": [
    "#Take three user inputs and print the greatest number from those inputsusing if-else condition. Edge cases, if any, should also be handled.\n",
    "a=int(input(\"enter first number :\"))\n",
    "b=int(input(\"enter second number :\"))\n",
    "c=int(input(\"enter third number :\"))\n",
    "if a >= b and a >= c:\n",
    "    print(f\"The greatest number is: {a}\")\n",
    "elif b >= a and b >= c:\n",
    "    print(f\"The greatest number is: {b}\")\n",
    "else:\n",
    "    print(f\"The greatest number is: {c}\")\n"
   ]
  },
  {
   "cell_type": "code",
   "execution_count": 24,
   "id": "3362b0ce-d154-4250-b95e-66774b797cba",
   "metadata": {},
   "outputs": [
    {
     "name": "stdout",
     "output_type": "stream",
     "text": [
      "1\n",
      "2\n",
      "3\n",
      "4\n",
      "5\n",
      "6\n",
      "7\n",
      "8\n",
      "9\n",
      "10\n"
     ]
    }
   ],
   "source": [
    " #Print the numbers from 1 to 10 using while loop.\n",
    "num=1\n",
    "while num<=10:\n",
    "    print(num)\n",
    "    num+=1"
   ]
  },
  {
   "cell_type": "code",
   "execution_count": 30,
   "id": "68cf08eb-c2c8-4b99-aa28-c1ed53c12e5d",
   "metadata": {},
   "outputs": [
    {
     "name": "stdout",
     "output_type": "stream",
     "text": [
      "10\n",
      "4\n",
      "26\n",
      "4\n",
      "24\n",
      "54\n"
     ]
    }
   ],
   "source": [
    "#Create a list that has 10, 23, 4, 26, 4, 75, 24, 54 values and with the help of while loop fetch the even numbers and print the numbers\n",
    "list=[10,23,4,26,4,75,24,54]\n",
    "i=0\n",
    "while i < len(list):\n",
    "    if list[i]%2==0:\n",
    "        print(list[i])\n",
    "    i+=1\n"
   ]
  },
  {
   "cell_type": "code",
   "execution_count": 36,
   "id": "901aad00-a3f7-46fd-99c2-29b824c2ffa4",
   "metadata": {},
   "outputs": [
    {
     "name": "stdout",
     "output_type": "stream",
     "text": [
      "23\n",
      "75\n",
      "5\n",
      "7\n",
      "9\n",
      "5\n",
      "25\n",
      "545\n",
      "55\n",
      "85\n",
      "565\n",
      "55\n",
      "5\n",
      "5\n"
     ]
    }
   ],
   "source": [
    "#Create a list that has 10, 23, 4, 26, 4, 75, 24, 54 values and with the help of while loop fetch the odd numbers and print the numbers\n",
    "list=[10,23,4,26,4,75,24,54,22,5,8,7,9,6,5,8,8,4,25,545,55,85,565,55,5,5,58,58]\n",
    "i=0\n",
    "while i<len(list):\n",
    "    if list[i]%2 !=0:\n",
    "        print(list[i])\n",
    "    i+=1\n",
    "    \n"
   ]
  },
  {
   "cell_type": "code",
   "execution_count": 40,
   "id": "81a8e008-755f-4104-b373-c3949d64a72e",
   "metadata": {},
   "outputs": [
    {
     "name": "stdin",
     "output_type": "stream",
     "text": [
      "Enter how many numbers you want to input:  5\n"
     ]
    },
    {
     "name": "stdout",
     "output_type": "stream",
     "text": [
      "[0 0 0 0 0]\n"
     ]
    },
    {
     "name": "stdin",
     "output_type": "stream",
     "text": [
      "Enter number 1:  15\n",
      "Enter number 2:  55\n",
      "Enter number 3:  54\n",
      "Enter number 4:  54\n",
      "Enter number 5:  56\n"
     ]
    },
    {
     "name": "stdout",
     "output_type": "stream",
     "text": [
      "Prime numbers are:\n"
     ]
    }
   ],
   "source": [
    "# Create an array that has user defined inputs and with the help of for loop,fetch all the prime numbers and print the numbers\n",
    "import numpy as np\n",
    "size = int(input(\"Enter how many numbers you want to input: \"))\n",
    "arr1 = np.zeros(size, dtype=int)\n",
    "print(arr1)\n",
    "for i in range(size):\n",
    "    arr1[i] = int(input(f\"Enter number {i+1}: \"))\n",
    "print(\"Prime numbers are:\")\n",
    "for num in arr1:\n",
    "    if num > 1:\n",
    "        for j in range(2, int(num**0.5) + 1):\n",
    "            if num % j == 0:\n",
    "                break\n",
    "        else:\n",
    "            print(num)"
   ]
  },
  {
   "cell_type": "code",
   "execution_count": 59,
   "id": "dbafefce-09dd-490c-b816-9b5d48518645",
   "metadata": {},
   "outputs": [
    {
     "name": "stdout",
     "output_type": "stream",
     "text": [
      "[1, 4, 9, 16, 25, 36, 49, 64, 81, 100]\n"
     ]
    }
   ],
   "source": [
    "#Create a list containing squares of numbers from 1 to 10 (HINT: use ListComprehension)\n",
    "squares = [i**2 for i in range(1, 11)]\n",
    "print(squares)\n"
   ]
  },
  {
   "cell_type": "code",
   "execution_count": 60,
   "id": "7efb02bf-9afd-45fd-8a67-6e3a21ed85d2",
   "metadata": {},
   "outputs": [
    {
     "data": {
      "text/plain": [
       "[1, 8, 27, 64, 125, 216, 343, 512, 729]"
      ]
     },
     "execution_count": 60,
     "metadata": {},
     "output_type": "execute_result"
    }
   ],
   "source": [
    "#Create a list containing cubes of numbers from 1 to 10 (HINT: use ListComprehension)\n",
    "cube=[i**3 for i in range(1,10)]\n",
    "cube"
   ]
  },
  {
   "cell_type": "code",
   "execution_count": 67,
   "id": "2b4f20db-cd4a-48fd-807c-1428ab2d9464",
   "metadata": {},
   "outputs": [
    {
     "name": "stdin",
     "output_type": "stream",
     "text": [
      "enter value of year 2026\n"
     ]
    },
    {
     "name": "stdout",
     "output_type": "stream",
     "text": [
      "it is not a leap year\n"
     ]
    }
   ],
   "source": [
    "# Write a function to check if the year number is a leap year\n",
    "a=2025\n",
    "i=int(input(\"enter value of year\"))\n",
    "if i==a+4:\n",
    "    print(\"it is a leap year\")\n",
    "else:\n",
    "    print(\"it is not a leap year\")"
   ]
  },
  {
   "cell_type": "code",
   "execution_count": 70,
   "id": "a358abed-fca7-4894-8062-d564d3f93561",
   "metadata": {},
   "outputs": [
    {
     "name": "stdin",
     "output_type": "stream",
     "text": [
      "Enter a year:  2024\n"
     ]
    },
    {
     "name": "stdout",
     "output_type": "stream",
     "text": [
      "It is a leap year.\n"
     ]
    }
   ],
   "source": [
    "def is_leap_year(year):\n",
    "    if (year % 4 == 0 and year % 100 != 0) or (year % 400 == 0):\n",
    "        return True\n",
    "    else:\n",
    "        return False\n",
    "\n",
    "year = int(input(\"Enter a year: \"))\n",
    "\n",
    "if is_leap_year(year):\n",
    "    print(\"It is a leap year.\")\n",
    "else:\n",
    "    print(\"It is not a leap year.\")\n"
   ]
  },
  {
   "cell_type": "code",
   "execution_count": null,
   "id": "6a815ccb-6531-48d4-bd9a-0cd9665452c6",
   "metadata": {},
   "outputs": [],
   "source": [
    "#Write a function to take an array and return another array that contains the members of the first array that are even\n",
    "\n",
    "import numpy as np\n",
    "\n",
    "def get_even_numbers(arr):\n",
    "    even_arr = arr[arr % 2 == 0]  # Using boolean indexing to get even elements\n",
    "    return even_arr\n",
    "\n",
    "# Taking input from the user\n",
    "size = int(input(\"Enter the number of elements in the array: \"))\n",
    "arr1 = np.zeros(size, dtype=int)\n",
    "\n",
    "for i in range(size):\n",
    "    arr1[i] = int(input(f\"Enter element {i+1}: \"))\n",
    "\n",
    "# Get even numbers and print\n",
    "even_numbers = get_even_numbers(arr1)\n",
    "print(\"Even numbers in the array are:\", even_numbers)\n"
   ]
  },
  {
   "cell_type": "code",
   "execution_count": 71,
   "id": "74184924-cb04-4260-b87f-826f9dffc427",
   "metadata": {},
   "outputs": [
    {
     "name": "stdout",
     "output_type": "stream",
     "text": [
      "Common elements are: [30, 50]\n"
     ]
    }
   ],
   "source": [
    "#Write a function that takes 2 arrays and prints the members of the first array that are present in the second array. (HINT: use Membership Comprehension)\n",
    "\n",
    "def common_elements(arr1, arr2):\n",
    "    result = [x for x in arr1 if x in arr2]\n",
    "    print(\"Common elements are:\", result)\n",
    "\n",
    "# Example input\n",
    "arr1 = [10, 20, 30, 40, 50]\n",
    "arr2 = [30, 50, 70, 90]\n",
    "\n",
    "# Function call\n",
    "common_elements(arr1, arr2)\n"
   ]
  },
  {
   "cell_type": "code",
   "execution_count": null,
   "id": "ebd5a70b-e1be-4626-ae54-e1b7b12ce3c4",
   "metadata": {},
   "outputs": [],
   "source": []
  }
 ],
 "metadata": {
  "kernelspec": {
   "display_name": "Python 3 (ipykernel)",
   "language": "python",
   "name": "python3"
  },
  "language_info": {
   "codemirror_mode": {
    "name": "ipython",
    "version": 3
   },
   "file_extension": ".py",
   "mimetype": "text/x-python",
   "name": "python",
   "nbconvert_exporter": "python",
   "pygments_lexer": "ipython3",
   "version": "3.12.7"
  }
 },
 "nbformat": 4,
 "nbformat_minor": 5
}
